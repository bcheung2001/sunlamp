{
 "cells": [
  {
   "cell_type": "code",
   "execution_count": 142,
   "id": "e8af4e10",
   "metadata": {},
   "outputs": [],
   "source": [
    "import numpy as np\n",
    "import PySimpleGUI as sg\n",
    "import random as random\n",
    "import time"
   ]
  },
  {
   "cell_type": "code",
   "execution_count": 143,
   "id": "29ed9514",
   "metadata": {},
   "outputs": [],
   "source": [
    "def rgb_to_hex(rgb):\n",
    "    return '#{:02x}{:02x}{:02x}'.format(int(rgb[0]), int(rgb[1]), int(rgb[2]))"
   ]
  },
  {
   "cell_type": "code",
   "execution_count": 144,
   "id": "91f4eb22",
   "metadata": {},
   "outputs": [
    {
     "data": {
      "text/plain": [
       "'#ffffff'"
      ]
     },
     "execution_count": 144,
     "metadata": {},
     "output_type": "execute_result"
    }
   ],
   "source": [
    "rgb_to_hex([255,255,255])"
   ]
  },
  {
   "cell_type": "code",
   "execution_count": 145,
   "id": "da0c1f76",
   "metadata": {},
   "outputs": [],
   "source": [
    "testDat = np.genfromtxt(\"test_rgb_array\", delimiter = ',')"
   ]
  },
  {
   "cell_type": "code",
   "execution_count": 146,
   "id": "cad13113",
   "metadata": {},
   "outputs": [
    {
     "data": {
      "text/plain": [
       "'#ffe8a5'"
      ]
     },
     "execution_count": 146,
     "metadata": {},
     "output_type": "execute_result"
    }
   ],
   "source": [
    "rgb_to_hex(testDat[0,:])"
   ]
  },
  {
   "cell_type": "code",
   "execution_count": 153,
   "id": "31b40dbb",
   "metadata": {},
   "outputs": [
    {
     "data": {
      "text/plain": [
       "3.90625"
      ]
     },
     "execution_count": 153,
     "metadata": {},
     "output_type": "execute_result"
    }
   ],
   "source": [
    "duration/(16*(np.shape(testDat)[0]))"
   ]
  },
  {
   "cell_type": "code",
   "execution_count": 162,
   "id": "915483be",
   "metadata": {},
   "outputs": [
    {
     "name": "stdout",
     "output_type": "stream",
     "text": [
      "0\n"
     ]
    },
    {
     "ename": "TclError",
     "evalue": "invalid command name \".!toplevel46.!frame.!label\"",
     "output_type": "error",
     "traceback": [
      "\u001b[0;31m---------------------------------------------------------------------------\u001b[0m",
      "\u001b[0;31mTclError\u001b[0m                                  Traceback (most recent call last)",
      "Cell \u001b[0;32mIn [162], line 60\u001b[0m\n\u001b[1;32m     57\u001b[0m t \u001b[38;5;241m=\u001b[39m j\u001b[38;5;241m/\u001b[39msteps\n\u001b[1;32m     58\u001b[0m interColor \u001b[38;5;241m=\u001b[39m get_color_step(start, end, t)\n\u001b[0;32m---> 60\u001b[0m \u001b[43mwindow\u001b[49m\u001b[43m[\u001b[49m\u001b[38;5;124;43m'\u001b[39;49m\u001b[38;5;124;43m-BACKGROUND-\u001b[39;49m\u001b[38;5;124;43m'\u001b[39;49m\u001b[43m]\u001b[49m\u001b[38;5;241;43m.\u001b[39;49m\u001b[43mupdate\u001b[49m\u001b[43m(\u001b[49m\u001b[43mbackground_color\u001b[49m\u001b[38;5;241;43m=\u001b[39;49m\u001b[43mrgb_to_hex\u001b[49m\u001b[43m(\u001b[49m\u001b[43minterColor\u001b[49m\u001b[43m)\u001b[49m\u001b[43m)\u001b[49m \n\u001b[1;32m     61\u001b[0m window\u001b[38;5;241m.\u001b[39mread(timeout\u001b[38;5;241m=\u001b[39m\u001b[38;5;241m100\u001b[39m)\u001b[38;5;66;03m# Change to desired color \u001b[39;00m\n\u001b[1;32m     62\u001b[0m time\u001b[38;5;241m.\u001b[39msleep(\u001b[38;5;241m0.1\u001b[39m)\n",
      "File \u001b[0;32m~/miniconda3/envs/env0/lib/python3.11/site-packages/PySimpleGUI/PySimpleGUI.py:3776\u001b[0m, in \u001b[0;36mText.update\u001b[0;34m(self, value, background_color, text_color, font, visible)\u001b[0m\n\u001b[1;32m   3774\u001b[0m     \u001b[38;5;28mself\u001b[39m\u001b[38;5;241m.\u001b[39mTKStringVar\u001b[38;5;241m.\u001b[39mset(\u001b[38;5;28mstr\u001b[39m(value))\n\u001b[1;32m   3775\u001b[0m \u001b[38;5;28;01mif\u001b[39;00m background_color \u001b[38;5;129;01mnot\u001b[39;00m \u001b[38;5;129;01min\u001b[39;00m (\u001b[38;5;28;01mNone\u001b[39;00m, COLOR_SYSTEM_DEFAULT):\n\u001b[0;32m-> 3776\u001b[0m     \u001b[38;5;28;43mself\u001b[39;49m\u001b[38;5;241;43m.\u001b[39;49m\u001b[43mTKText\u001b[49m\u001b[38;5;241;43m.\u001b[39;49m\u001b[43mconfigure\u001b[49m\u001b[43m(\u001b[49m\u001b[43mbackground\u001b[49m\u001b[38;5;241;43m=\u001b[39;49m\u001b[43mbackground_color\u001b[49m\u001b[43m)\u001b[49m\n\u001b[1;32m   3777\u001b[0m \u001b[38;5;28;01mif\u001b[39;00m text_color \u001b[38;5;129;01mnot\u001b[39;00m \u001b[38;5;129;01min\u001b[39;00m (\u001b[38;5;28;01mNone\u001b[39;00m, COLOR_SYSTEM_DEFAULT):\n\u001b[1;32m   3778\u001b[0m     \u001b[38;5;28mself\u001b[39m\u001b[38;5;241m.\u001b[39mTKText\u001b[38;5;241m.\u001b[39mconfigure(fg\u001b[38;5;241m=\u001b[39mtext_color)\n",
      "File \u001b[0;32m~/miniconda3/envs/env0/lib/python3.11/tkinter/__init__.py:1702\u001b[0m, in \u001b[0;36mMisc.configure\u001b[0;34m(self, cnf, **kw)\u001b[0m\n\u001b[1;32m   1695\u001b[0m \u001b[38;5;28;01mdef\u001b[39;00m \u001b[38;5;21mconfigure\u001b[39m(\u001b[38;5;28mself\u001b[39m, cnf\u001b[38;5;241m=\u001b[39m\u001b[38;5;28;01mNone\u001b[39;00m, \u001b[38;5;241m*\u001b[39m\u001b[38;5;241m*\u001b[39mkw):\n\u001b[1;32m   1696\u001b[0m \u001b[38;5;250m    \u001b[39m\u001b[38;5;124;03m\"\"\"Configure resources of a widget.\u001b[39;00m\n\u001b[1;32m   1697\u001b[0m \n\u001b[1;32m   1698\u001b[0m \u001b[38;5;124;03m    The values for resources are specified as keyword\u001b[39;00m\n\u001b[1;32m   1699\u001b[0m \u001b[38;5;124;03m    arguments. To get an overview about\u001b[39;00m\n\u001b[1;32m   1700\u001b[0m \u001b[38;5;124;03m    the allowed keyword arguments call the method keys.\u001b[39;00m\n\u001b[1;32m   1701\u001b[0m \u001b[38;5;124;03m    \"\"\"\u001b[39;00m\n\u001b[0;32m-> 1702\u001b[0m     \u001b[38;5;28;01mreturn\u001b[39;00m \u001b[38;5;28;43mself\u001b[39;49m\u001b[38;5;241;43m.\u001b[39;49m\u001b[43m_configure\u001b[49m\u001b[43m(\u001b[49m\u001b[38;5;124;43m'\u001b[39;49m\u001b[38;5;124;43mconfigure\u001b[39;49m\u001b[38;5;124;43m'\u001b[39;49m\u001b[43m,\u001b[49m\u001b[43m \u001b[49m\u001b[43mcnf\u001b[49m\u001b[43m,\u001b[49m\u001b[43m \u001b[49m\u001b[43mkw\u001b[49m\u001b[43m)\u001b[49m\n",
      "File \u001b[0;32m~/miniconda3/envs/env0/lib/python3.11/tkinter/__init__.py:1692\u001b[0m, in \u001b[0;36mMisc._configure\u001b[0;34m(self, cmd, cnf, kw)\u001b[0m\n\u001b[1;32m   1690\u001b[0m \u001b[38;5;28;01mif\u001b[39;00m \u001b[38;5;28misinstance\u001b[39m(cnf, \u001b[38;5;28mstr\u001b[39m):\n\u001b[1;32m   1691\u001b[0m     \u001b[38;5;28;01mreturn\u001b[39;00m \u001b[38;5;28mself\u001b[39m\u001b[38;5;241m.\u001b[39m_getconfigure1(_flatten((\u001b[38;5;28mself\u001b[39m\u001b[38;5;241m.\u001b[39m_w, cmd, \u001b[38;5;124m'\u001b[39m\u001b[38;5;124m-\u001b[39m\u001b[38;5;124m'\u001b[39m\u001b[38;5;241m+\u001b[39mcnf)))\n\u001b[0;32m-> 1692\u001b[0m \u001b[38;5;28;43mself\u001b[39;49m\u001b[38;5;241;43m.\u001b[39;49m\u001b[43mtk\u001b[49m\u001b[38;5;241;43m.\u001b[39;49m\u001b[43mcall\u001b[49m\u001b[43m(\u001b[49m\u001b[43m_flatten\u001b[49m\u001b[43m(\u001b[49m\u001b[43m(\u001b[49m\u001b[38;5;28;43mself\u001b[39;49m\u001b[38;5;241;43m.\u001b[39;49m\u001b[43m_w\u001b[49m\u001b[43m,\u001b[49m\u001b[43m \u001b[49m\u001b[43mcmd\u001b[49m\u001b[43m)\u001b[49m\u001b[43m)\u001b[49m\u001b[43m \u001b[49m\u001b[38;5;241;43m+\u001b[39;49m\u001b[43m \u001b[49m\u001b[38;5;28;43mself\u001b[39;49m\u001b[38;5;241;43m.\u001b[39;49m\u001b[43m_options\u001b[49m\u001b[43m(\u001b[49m\u001b[43mcnf\u001b[49m\u001b[43m)\u001b[49m\u001b[43m)\u001b[49m\n",
      "\u001b[0;31mTclError\u001b[0m: invalid command name \".!toplevel46.!frame.!label\""
     ]
    }
   ],
   "source": [
    "testDat = np.genfromtxt(\"test_rgb_array\", delimiter = ',')\n",
    "duration = 60\n",
    "\n",
    "def rgb_to_hex(rgb):\n",
    "    return '#{:02x}{:02x}{:02x}'.format(int(rgb[0]), int(rgb[1]), int(rgb[2]))\n",
    "\n",
    "def get_color_step(color1, color2, t):\n",
    "\n",
    "    r = int(color1[0] + (color2[0] - color1[0]) * t)\n",
    "    g = int(color1[1] + (color2[1] - color1[1]) * t)\n",
    "    b = int(color1[2] + (color2[2] - color1[2]) * t)\n",
    "\n",
    "    return (r, g, b)\n",
    "\n",
    "\n",
    "#PORT_NAME = '/dev/ttyUSB0'  # Linux (might be /dev/ttyACM0, /dev/ttyUSB1, etc.)\n",
    "# PORT_NAME = 'COM3'        # Windows (Change to the COM port your Arduino is connected to)\n",
    "\n",
    "# Open the serial port\n",
    "#ser = serial.Serial(PORT_NAME, 9600, timeout=1)\n",
    "#ser.flush()\n",
    "\n",
    "# Define the window layout\n",
    "layout = [\n",
    "    [sg.Text('', size=(50,50), key='-BACKGROUND-'),],\n",
    "    [sg.Button('Test RGB demo sequence')],\n",
    "    [sg.Exit()]]\n",
    "\n",
    "# Create the window\n",
    "window = sg.Window('SUNLAMP', layout)\n",
    "\n",
    "while True:\n",
    "    event, values = window.read()\n",
    "\n",
    "    if event == sg.WINDOW_CLOSED or event == 'Exit':\n",
    "        break\n",
    "    if event == 'Test RGB demo sequence':\n",
    "        \n",
    "        steps = 75\n",
    "        i=0\n",
    "\n",
    "        while i < np.shape(testDat)[0]-1 and event != 'Exit':\n",
    "            print(i)\n",
    "            if i == 0:\n",
    "                window['-BACKGROUND-'].update(background_color=rgb_to_hex(testDat[i,:]))  \n",
    "                #window.read(timeout=100)# Change to desired color \n",
    "                #time.sleep(0.1)\n",
    "                for k in random.sample(range(1, 17), 16):\n",
    "                    #print(int(testDat[i, 0]), int(testDat[i, 1]), int(testDat[i, 1]), 255, k)\n",
    "                    #time.sleep(duration/(16*(np.shape(testDat)[0])))\n",
    "                    window.read(timeout = duration/(16*(np.shape(testDat)[0]))/100)\n",
    "            \n",
    "            start = testDat[i, :]\n",
    "            end = testDat[i+1, :]\n",
    "\n",
    "            for j in range(steps+1):\n",
    "                t = j/steps\n",
    "                interColor = get_color_step(start, end, t)\n",
    "                \n",
    "                window['-BACKGROUND-'].update(background_color=rgb_to_hex(interColor)) \n",
    "                window.read(timeout=100)# Change to desired color \n",
    "                time.sleep(0.1)\n",
    "                for k in random.sample(range(1,17), 16):\n",
    "                    #print(int(interColor[0]), int(interColor[1]), int(interColor[2]), 255, k)\n",
    "                    #time.sleep(duration/(16*(np.shape(testDat)[0])))\n",
    "                    window.read(timeout = duration/(16*(np.shape(testDat)[0]))/100)\n",
    "\n",
    "            i += 1\n",
    "            \n",
    "        if i == np.shape(testDat)[0]-1:\n",
    "            print(\"Done!\")\n",
    "\n",
    "\n",
    "\n",
    "window.close()\n",
    "#ser.close()  # Close the serial connection"
   ]
  },
  {
   "cell_type": "code",
   "execution_count": null,
   "id": "3e43e705",
   "metadata": {},
   "outputs": [],
   "source": [
    "steps = 100\n",
    "i=0\n",
    "\n",
    "while i < np.shape(testDat)[0]-1:\n",
    "    print(i)\n",
    "    if i == 0:\n",
    "        window['-BACKGROUND-'].update(background_color=rgb_to_hex(testDat[i,:]))  \n",
    "        window.read(timeout=100)# Change to desired color \n",
    "        #for k in random.sample(range(1, 17), 16):\n",
    "            #print(int(testDat[i, 0]), int(testDat[i, 1]), int(testDat[i, 1]), 255, k)\n",
    "\n",
    "    start = testDat[i, :]\n",
    "    end = testDat[i+1, :]\n",
    "\n",
    "    for j in range(steps+1):\n",
    "        t = j/steps\n",
    "        interColor = get_color_step(start, end, t)\n",
    "\n",
    "        #window['-BACKGROUND-'].update(background_color=rgb_to_hex(interColor)) \n",
    "\n",
    "        #window.read(timeout=100)# Change to desired color \n",
    "        #for k in random.sample(range(1,17), 16):\n",
    "            #print(int(interColor[0]), int(interColor[1]), int(interColor[2]), 255, k)\n",
    "    i += 1\n"
   ]
  },
  {
   "cell_type": "code",
   "execution_count": 46,
   "id": "62cd1443",
   "metadata": {
    "scrolled": false
   },
   "outputs": [
    {
     "data": {
      "image/png": "[encoded data removed]",
      "text/plain": [
       "<Figure size 500x5100 with 1 Axes>"
      ]
     },
     "metadata": {},
     "output_type": "display_data"
    }
   ],
   "source": [
    "import matplotlib.pyplot as plt\n",
    "import matplotlib.patches as patches\n",
    "\n",
    "def get_color_step(color1, color2, t):\n",
    "    \n",
    "    r = int(start_color[0] + (end_color[0] - start_color[0]) * t)\n",
    "    g = int(start_color[1] + (end_color[1] - start_color[1]) * t)\n",
    "    b = int(start_color[2] + (end_color[2] - start_color[2]) * t)\n",
    "\n",
    "    return (r, g, b)\n",
    "\n",
    "\n",
    "start = [255, 232, 165] \n",
    "end = [255, 143, 128]     \n",
    "\n",
    "steps = 50  # How many steps you want in the transition\n",
    "colors = []\n",
    "\n",
    "for i in range(steps + 1):\n",
    "    t = i / steps\n",
    "    color = interpolate_color(start, end, t)\n",
    "    colors.append(color)\n",
    "\n",
    "fig, ax = plt.subplots(figsize=(5, len(colors)))\n",
    "\n",
    "for i, color in enumerate(colors):\n",
    "    rect = patches.Rectangle((0, i), 1, 1, linewidth=0, edgecolor='none', facecolor=(color[0]/255, color[1]/255, color[2]/255))\n",
    "    ax.add_patch(rect)\n",
    "\n",
    "ax.set_xlim(0, 1)\n",
    "ax.set_ylim(0, len(colors))\n",
    "ax.axis(\"off\")\n",
    "\n",
    "plt.show()"
   ]
  },
  {
   "cell_type": "code",
   "execution_count": null,
   "id": "4631c23c",
   "metadata": {},
   "outputs": [],
   "source": []
  }
 ],
 "metadata": {
  "kernelspec": {
   "display_name": "Python 3 (ipykernel)",
   "language": "python",
   "name": "python3"
  },
  "language_info": {
   "codemirror_mode": {
    "name": "ipython",
    "version": 3
   },
   "file_extension": ".py",
   "mimetype": "text/x-python",
   "name": "python",
   "nbconvert_exporter": "python",
   "pygments_lexer": "ipython3",
   "version": "3.11.0"
  }
 },
 "nbformat": 4,
 "nbformat_minor": 5
}
