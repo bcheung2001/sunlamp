{
 "cells": [
  {
   "cell_type": "code",
   "execution_count": 2,
   "id": "5667fc89",
   "metadata": {},
   "outputs": [],
   "source": [
    "import numpy as np\n",
    "import PySimpleGUI as sg\n",
    "import random as random\n",
    "import time as t"
   ]
  },
  {
   "cell_type": "code",
   "execution_count": 3,
   "id": "5b1ee48c",
   "metadata": {},
   "outputs": [],
   "source": [
    "def rgb_to_hex(rgb):\n",
    "    return '#{:02x}{:02x}{:02x}'.format(int(rgb[0]), int(rgb[1]), int(rgb[2]))"
   ]
  },
  {
   "cell_type": "code",
   "execution_count": 4,
   "id": "06ced574",
   "metadata": {},
   "outputs": [
    {
     "data": {
      "text/plain": [
       "'#ffffff'"
      ]
     },
     "execution_count": 4,
     "metadata": {},
     "output_type": "execute_result"
    }
   ],
   "source": [
    "rgb_to_hex([255,255,255])"
   ]
  },
  {
   "cell_type": "code",
   "execution_count": 81,
   "id": "f8593a94",
   "metadata": {},
   "outputs": [],
   "source": [
    "sunriseDat = np.genfromtxt(\"rayleigh_corrected_rgb_array\", delimiter = ',')"
   ]
  },
  {
   "cell_type": "code",
   "execution_count": 6,
   "id": "78530838",
   "metadata": {},
   "outputs": [
    {
     "data": {
      "text/plain": [
       "'#5f36ff'"
      ]
     },
     "execution_count": 6,
     "metadata": {},
     "output_type": "execute_result"
    }
   ],
   "source": [
    "rgb_to_hex(testDat[0,:])"
   ]
  },
  {
   "cell_type": "code",
   "execution_count": 7,
   "id": "810c2a1e",
   "metadata": {},
   "outputs": [
    {
     "name": "stdout",
     "output_type": "stream",
     "text": [
      "None {'-INPUT-': None}\n"
     ]
    }
   ],
   "source": [
    "import PySimpleGUI as psg\n",
    "\n",
    "l1 = psg.Text('Type here', key='-OUT-', font=('Arial Bold', 20), expand_x=True, justification='center')\n",
    "t1 = psg.Input('60', enable_events=True, key='-INPUT-', font=('Arial Bold', 20), expand_x=True, justification='left')\n",
    "b1 = psg.Button('Ok', key='-OK-', font=('Arial Bold', 20))\n",
    "b2 = psg.Button('Exit', font=('Arial Bold', 20))\n",
    "\n",
    "layout = [[l1], [t1], [b1, b2]]\n",
    "\n",
    "window = psg.Window('Input Demo', layout, size=(750, 150))\n",
    "\n",
    "while True:\n",
    "   event, values = window.read()\n",
    "   print(event, values)\n",
    "   if event == '-INPUT-':\n",
    "      if values['-INPUT-'][-1] not in ('0123456789'):\n",
    "         psg.popup(\"Only digits allowed\")\n",
    "         window['-INPUT-'].update(values['-INPUT-'][:-1])\n",
    "   if event == psg.WIN_CLOSED or event == 'Exit':\n",
    "      break\n",
    "        \n",
    "window.close()"
   ]
  },
  {
   "cell_type": "code",
   "execution_count": null,
   "id": "390e74d5",
   "metadata": {},
   "outputs": [],
   "source": [
    "PORT_NAME = 'COM7'        # Windows (Change to the COM port your Arduino is connected to)\n",
    "\n",
    "# Open the serial port\n",
    "ser = serial.Serial(PORT_NAME, 9600, timeout=1)\n",
    "ser.flush()"
   ]
  },
  {
   "cell_type": "code",
   "execution_count": 85,
   "id": "63562d51",
   "metadata": {
    "scrolled": false
   },
   "outputs": [
    {
     "name": "stdout",
     "output_type": "stream",
     "text": [
      "5800\n",
      "[255. 233. 220.]\n",
      "1500\n",
      "[255.  50.   2.]\n",
      "1000\n",
      "[255.   9.   0.]\n",
      "100\n",
      "[255.   0.  80.]\n",
      "10\n",
      "[0. 0. 0.]\n"
     ]
    },
    {
     "name": "stderr",
     "output_type": "stream",
     "text": [
      "/tmp/ipykernel_5906/2537187456.py:33: RuntimeWarning: overflow encountered in exp\n",
      "  B = 2*h*c**2/lam_m**5 / (np.exp(fac) - 1)\n"
     ]
    },
    {
     "name": "stdout",
     "output_type": "stream",
     "text": [
      "50\n",
      "[255.   0.  83.]\n"
     ]
    }
   ],
   "source": [
    "from scipy.constants import h, c, k\n",
    "from colour_system import *\n",
    "\n",
    "testDat = np.genfromtxt(\"test_rgb_array\", delimiter = ',')\n",
    "duration = 60\n",
    "temp = 5800\n",
    "cs = cs_hdtv\n",
    "lam = np.arange(380., 781., 5)\n",
    "\n",
    "\n",
    "def rgb_to_hex(rgb):\n",
    "    \n",
    "    return '#{:02x}{:02x}{:02x}'.format(int(rgb[0]), int(rgb[1]), int(rgb[2]))\n",
    "\n",
    "def get_color_step(color1, color2, t):\n",
    "\n",
    "    r = int(color1[0] + (color2[0] - color1[0]) * t)\n",
    "    g = int(color1[1] + (color2[1] - color1[1]) * t)\n",
    "    b = int(color1[2] + (color2[2] - color1[2]) * t)\n",
    "\n",
    "    return (r, g, b)\n",
    "\n",
    "def planck(lam, T):\n",
    "    \"\"\" Returns the spectral radiance of a black body at temperature T.\n",
    "\n",
    "    Returns the spectral radiance, B(lam, T), in W.sr-1.m-2 of a black body\n",
    "    at temperature T (in K) at a wavelength lam (in nm), using Planck's law.\n",
    "\n",
    "    \"\"\"\n",
    "\n",
    "    lam_m = lam / 1.e9\n",
    "    fac = h*c/lam_m/k/T\n",
    "    B = 2*h*c**2/lam_m**5 / (np.exp(fac) - 1)\n",
    "    return B\n",
    "\n",
    "def blackbody_color(T):\n",
    "    spec = planck(lam, T)\n",
    "    rgb = cs.spec_to_rgb(spec)\n",
    "    return np.round(rgb*255)\n",
    "\n",
    "def smooth_transition(steps, dataName):\n",
    "    \n",
    "    duration = 60\n",
    "    i = 0\n",
    "    \n",
    "    if values['-INPUT-'] != '':\n",
    "        duration = int(values['-INPUT-'])\n",
    "\n",
    "    print(duration)\n",
    "\n",
    "    while i < np.shape(dataName)[0]-1 and event != 'Exit':\n",
    "        print(i)\n",
    "        if i == 0:\n",
    "            window['-BACKGROUND-'].update(background_color=rgb_to_hex(testDat[i,:]))\n",
    "            window['-BACKGROUND-'].update(value = str(testDat[i,0]) + ', ' + str(testDat[i, 1]) + ', ' + str(testDat[i, 2]))\n",
    "            window.read(timeout = 100*(duration/60))\n",
    "            for k in random.sample(range(1, 17), 16):\n",
    "                window.read(timeout=0)\n",
    "                #print(int(testDat[i, 0]), int(testDat[i, 1]), int(testDat[i, 1]), 255, k)\n",
    "\n",
    "        start = dataName[i, :]\n",
    "        end = dataName[i+1, :]\n",
    "\n",
    "        for j in range(steps+1):\n",
    "            t = j/steps\n",
    "            interColor = get_color_step(start, end, t)\n",
    "\n",
    "            window['-BACKGROUND-'].update(background_color=rgb_to_hex(interColor)) \n",
    "            window['-BACKGROUND-'].update(value = str(interColor[0]) + ', ' + str(interColor[1]) + ', ' + str(interColor[2]))\n",
    "            window.read(timeout = 100*(duration/60))\n",
    "            for k in random.sample(range(1,17), 16):\n",
    "                window.read(timeout=0)\n",
    "                #print(int(interColor[0]), int(interColor[1]), int(interColor[2]), 255, k)\n",
    "\n",
    "        i += 1\n",
    "\n",
    "    if i == np.shape(dataName)[0]-1:\n",
    "        window['-BACKGROUND-'].update(value = 'Done!')\n",
    "\n",
    "\n",
    "l1 = sg.Text('R, G, B', font =('Arial Bold', 30), size = (20, 5), background_color = 'black', expand_x=True, key='-BACKGROUND-', justification = 'center')\n",
    "l2 = sg.Text('Input sequence duration (60s default)', font=('Arial Bold', 15), expand_x=True, justification='left')\n",
    "l3 = sg.Input('', enable_events=True, key='-INPUT-', font=('Arial Bold', 15), expand_x=True, justification='left')\n",
    "l4 = sg.Button('Sunrise demo sequence', key = '-SUNRISE-', font =('Arial Bold', 15))\n",
    "l5 = sg.Button('Sunset demo sequence', key = '-SUNSET-', font =('Arial Bold', 15))\n",
    "l6 = sg.Text('Input blackbody temperature (5800K default)', font=('Arial Bold', 15), expand_x=True, justification='left')\n",
    "l7 = sg.Input('', enable_events=True, key='-TEMP-', font=('Arial Bold', 15), expand_x=True, justification='left')\n",
    "l8 = sg.Button('Show blackbody color', key = '-BLACKBODY-', font = ('Arial Bold', 15))\n",
    "l9 = sg.Exit(font =('Arial Bold', 15))\n",
    "\n",
    "layout = [[l1], [l2], [l3], [l4], [l5], [l6], [l7], [l8], [l9]]\n",
    "\n",
    "# Create the window\n",
    "window = sg.Window('SUNLAMP', layout, finalize=True)\n",
    "\n",
    "while True:\n",
    "        \n",
    "    event, values = window.read()\n",
    "\n",
    "    if event == sg.WINDOW_CLOSED or event == 'Exit':\n",
    "        break\n",
    "        \n",
    "    if event == '-INPUT-':\n",
    "        if len(values['-INPUT-']) > 1:\n",
    "            if values['-INPUT-'][-1] not in ('0123456789'):\n",
    "                sg.popup(\"Only digits allowed\")\n",
    "                window['-INPUT-'].update(values['-INPUT-'][:-1])\n",
    "        \n",
    "    if event == '-TEMP-':\n",
    "        if len(values['-TEMP-']) > 1:\n",
    "            if values['-TEMP-'][-1] not in ('0123456789'):\n",
    "                sg.popup(\"Only digits allowed\")\n",
    "                window['-TEMP-'].update(values['-TEMP-'][:-1])\n",
    "                \n",
    "    if event == '-SUNRISE-':\n",
    "        smooth_transition(50, sunriseDat)\n",
    "        \n",
    "    if event == '-SUNSET-':\n",
    "        smooth_transition(50, np.flipud(sunriseDat))\n",
    "        \n",
    "    if event == '-BLACKBODY-':\n",
    "        if values['-TEMP-'] != '':\n",
    "            temp = int(values['-TEMP-'])\n",
    "        print(temp)\n",
    "        tempColor = blackbody_color(temp)\n",
    "        print(tempColor)\n",
    "        window['-BACKGROUND-'].update(background_color=rgb_to_hex(tempColor)) \n",
    "        window['-BACKGROUND-'].update(value = str(tempColor[0]) + ', ' + str(tempColor[1]) + ', ' + str(tempColor[2]))\n",
    "        window.read(timeout = 100*(duration/60))\n",
    "        \n",
    "        \n",
    "window.close()"
   ]
  },
  {
   "cell_type": "code",
   "execution_count": null,
   "id": "ee53694d",
   "metadata": {},
   "outputs": [],
   "source": [
    "steps = 100\n",
    "i=0\n",
    "\n",
    "while i < np.shape(testDat)[0]-1:\n",
    "    print(i)\n",
    "    if i == 0:\n",
    "        window['-BACKGROUND-'].update(background_color=rgb_to_hex(testDat[i,:]))  \n",
    "        window.read(timeout=100)# Change to desired color \n",
    "        #for k in random.sample(range(1, 17), 16):\n",
    "            #print(int(testDat[i, 0]), int(testDat[i, 1]), int(testDat[i, 1]), 255, k)\n",
    "\n",
    "    start = testDat[i, :]\n",
    "    end = testDat[i+1, :]\n",
    "\n",
    "    for j in range(steps+1):\n",
    "        t = j/steps\n",
    "        interColor = get_color_step(start, end, t)\n",
    "\n",
    "        #window['-BACKGROUND-'].update(background_color=rgb_to_hex(interColor)) \n",
    "\n",
    "        #window.read(timeout=100)# Change to desired color \n",
    "        #for k in random.sample(range(1,17), 16):\n",
    "            #print(int(interColor[0]), int(interColor[1]), int(interColor[2]), 255, k)\n",
    "    i += 1\n"
   ]
  },
  {
   "cell_type": "code",
   "execution_count": null,
   "id": "cf88d5fe",
   "metadata": {
    "scrolled": false
   },
   "outputs": [],
   "source": [
    "import matplotlib.pyplot as plt\n",
    "import matplotlib.patches as patches\n",
    "\n",
    "def get_color_step(color1, color2, t):\n",
    "    \n",
    "    r = int(start_color[0] + (end_color[0] - start_color[0]) * t)\n",
    "    g = int(start_color[1] + (end_color[1] - start_color[1]) * t)\n",
    "    b = int(start_color[2] + (end_color[2] - start_color[2]) * t)\n",
    "\n",
    "    return (r, g, b)\n",
    "\n",
    "\n",
    "start = [255, 232, 165] \n",
    "end = [255, 143, 128]     \n",
    "\n",
    "steps = 50  # How many steps you want in the transition\n",
    "colors = []\n",
    "\n",
    "for i in range(steps + 1):\n",
    "    t = i / steps\n",
    "    color = interpolate_color(start, end, t)\n",
    "    colors.append(color)\n",
    "\n",
    "fig, ax = plt.subplots(figsize=(5, len(colors)))\n",
    "\n",
    "for i, color in enumerate(colors):\n",
    "    rect = patches.Rectangle((0, i), 1, 1, linewidth=0, edgecolor='none', facecolor=(color[0]/255, color[1]/255, color[2]/255))\n",
    "    ax.add_patch(rect)\n",
    "\n",
    "ax.set_xlim(0, 1)\n",
    "ax.set_ylim(0, len(colors))\n",
    "ax.axis(\"off\")\n",
    "\n",
    "plt.show()"
   ]
  },
  {
   "cell_type": "code",
   "execution_count": null,
   "id": "b521dbb0",
   "metadata": {},
   "outputs": [],
   "source": []
  }
 ],
 "metadata": {
  "kernelspec": {
   "display_name": "Python 3 (ipykernel)",
   "language": "python",
   "name": "python3"
  },
  "language_info": {
   "codemirror_mode": {
    "name": "ipython",
    "version": 3
   },
   "file_extension": ".py",
   "mimetype": "text/x-python",
   "name": "python",
   "nbconvert_exporter": "python",
   "pygments_lexer": "ipython3",
   "version": "3.11.0"
  }
 },
 "nbformat": 4,
 "nbformat_minor": 5
}
