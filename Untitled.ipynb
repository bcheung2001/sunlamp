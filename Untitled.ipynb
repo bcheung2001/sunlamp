{
 "cells": [
  {
   "cell_type": "code",
   "execution_count": 2,
   "id": "ab586e48",
   "metadata": {},
   "outputs": [],
   "source": [
    "import numpy as np\n",
    "import PySimpleGUI as sg\n",
    "import serial\n",
    "import random as random\n",
    "import time as t\n",
    "from scipy.constants import h, c, k\n",
    "from colour_system import *\n",
    "\n",
    "sunriseDat = np.genfromtxt(\"rayleigh_corrected_rgb_array\", delimiter = ',')\n",
    "\n",
    "duration = 60\n",
    "temp = 5800\n",
    "cs = cs_hdtv\n",
    "lam = np.arange(380., 781., 5)\n",
    "\n",
    "def planck(lam, T):\n",
    "    \"\"\" Returns the spectral radiance of a black body at temperature T.\n",
    "\n",
    "    Returns the spectral radiance, B(lam, T), in W.sr-1.m-2 of a black body\n",
    "    at temperature T (in K) at a wavelength lam (in nm), using Planck's law.\n",
    "\n",
    "    \"\"\"\n",
    "\n",
    "    lam_m = lam / 1.e9\n",
    "    fac = h*c/lam_m/k/T\n",
    "    B = 2*h*c**2/lam_m**5 / (np.exp(fac) - 1)\n",
    "    return B\n",
    "\n",
    "def blackbody_color(T):\n",
    "    spec = planck(lam, T)\n",
    "    rgb = cs.spec_to_rgb(spec)\n",
    "    return np.round(rgb*255)\n",
    "\n",
    "def blackbody_rayleigh(T):\n",
    "    spec = planck(lam, T)\n",
    "    rgb = cs.spec_to_rgb(spec/lam**4)\n",
    "    return np.round(rgb*255)"
   ]
  },
  {
   "cell_type": "code",
   "execution_count": 3,
   "id": "7ac0aa42",
   "metadata": {},
   "outputs": [
    {
     "name": "stdout",
     "output_type": "stream",
     "text": [
      "[255. 233. 220.]\n"
     ]
    }
   ],
   "source": [
    "tempColor = blackbody_color(temp)\n",
    "print(tempColor)"
   ]
  },
  {
   "cell_type": "code",
   "execution_count": 4,
   "id": "255c4db8",
   "metadata": {},
   "outputs": [
    {
     "name": "stdout",
     "output_type": "stream",
     "text": [
      "[ 84. 119. 255.]\n"
     ]
    }
   ],
   "source": [
    "tempColor2 = blackbody_rayleigh(temp)\n",
    "print(tempColor2)"
   ]
  },
  {
   "cell_type": "code",
   "execution_count": null,
   "id": "d3eda015",
   "metadata": {},
   "outputs": [],
   "source": []
  }
 ],
 "metadata": {
  "kernelspec": {
   "display_name": "Python 3 (ipykernel)",
   "language": "python",
   "name": "python3"
  },
  "language_info": {
   "codemirror_mode": {
    "name": "ipython",
    "version": 3
   },
   "file_extension": ".py",
   "mimetype": "text/x-python",
   "name": "python",
   "nbconvert_exporter": "python",
   "pygments_lexer": "ipython3",
   "version": "3.11.0"
  }
 },
 "nbformat": 4,
 "nbformat_minor": 5
}
